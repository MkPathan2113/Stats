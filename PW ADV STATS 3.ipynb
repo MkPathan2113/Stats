{
 "cells": [
  {
   "cell_type": "markdown",
   "id": "5547465e",
   "metadata": {},
   "source": [
    "Q1: What is Estimation Statistics? Explain point estimate and interval estimate.\n",
    "\n"
   ]
  },
  {
   "cell_type": "markdown",
   "id": "43243ff1",
   "metadata": {},
   "source": [
    "Estimate : It is an observed numerical value used to estimate an unknown population parameter \n",
    "\n",
    "There are two types of Estimate : \n",
    "\n",
    "1. Point Estimate \n",
    "\n",
    "2. Interval Estimate \n",
    "\n",
    "Point Estimate : It is a single numerical value used to estimate an unknown population parameter "
   ]
  },
  {
   "cell_type": "markdown",
   "id": "b66b7e2d",
   "metadata": {},
   "source": [
    "Q2. Write a Python function to estimate the population mean using a sample mean and standard \n",
    "deviation.\n",
    "\n"
   ]
  },
  {
   "cell_type": "code",
   "execution_count": 3,
   "id": "0a2500cf",
   "metadata": {},
   "outputs": [
    {
     "name": "stdout",
     "output_type": "stream",
     "text": [
      "Estimated Population Mean: 75\n",
      "95% Confidence Interval: (73.04, 76.96)\n"
     ]
    }
   ],
   "source": [
    "def estimate_population_mean(sample_mean, sample_std, sample_size):\n",
    "    \n",
    "    standard_error = sample_std / (sample_size ** 0.5)\n",
    "    \n",
    "    margin_of_error = 1.96 * standard_error\n",
    "    \n",
    "    lower_bound = sample_mean - margin_of_error\n",
    "    upper_bound = sample_mean + margin_of_error\n",
    "    \n",
    "    return sample_mean, (lower_bound, upper_bound)\n",
    "\n",
    "sample_mean = 75 \n",
    "sample_std = 10 \n",
    "sample_size = 100  \n",
    "\n",
    "estimated_mean, confidence_interval = estimate_population_mean(sample_mean, sample_std, sample_size)\n",
    "print(f\"Estimated Population Mean: {estimated_mean}\")\n",
    "print(f\"95% Confidence Interval: {confidence_interval}\")\n"
   ]
  },
  {
   "cell_type": "markdown",
   "id": "c1275168",
   "metadata": {},
   "source": [
    "Q3: What is Hypothesis testing? Why is it used? State the importance of Hypothesis testing.\n",
    "\n"
   ]
  },
  {
   "cell_type": "markdown",
   "id": "83a0da49",
   "metadata": {},
   "source": [
    "Hypothesis testing is a statistical method used to evaluate hypotheses about population parameters based on sample data. It involves formulating null and alternative hypotheses, collecting data, calculating test statistics, and making decisions about whether to reject or fail to reject the null hypothesis.\n",
    "\n",
    "It is used to assess the validity of claims, theories, or assumptions, and to draw conclusions about populations from sample data. Hypothesis testing helps researchers make evidence-based decisions, supports scientific research by validating or refuting hypotheses, and controls the risks of Type I (false positives) and Type II (false negatives) errors.\n",
    "\n",
    "Overall, hypothesis testing plays a crucial role in scientific inquiry, research methodology, and decision-making processes across various disciplines, ensuring rigor, reliability, and validity in statistical analyses and conclusions."
   ]
  },
  {
   "cell_type": "markdown",
   "id": "3d699676",
   "metadata": {},
   "source": [
    "Q4. Create a hypothesis that states whether the average weight of male college students is greater than \n",
    "the average weight of female college students.\n",
    "\n"
   ]
  },
  {
   "cell_type": "markdown",
   "id": "d335a912",
   "metadata": {},
   "source": [
    "Hypothesis:\n",
    "Null Hypothesis (H0): The average weight of male college students is not greater than the average weight of female college students. male μ ≤ female μ \n",
    "\n",
    "Alternative Hypothesis (H a): The average weight of male college students is greater than the average weight of female college students. male μ >female μ \n",
    "\n",
    "Here, male μ represents the population mean weight of male college students, and female μ female represents the population mean weight of female college students.\n",
    "\n",
    "This hypothesis can be tested using appropriate statistical methods such as a one-tailed t-test or z-test to determine if there is sufficient evidence to reject the null hypothesis in favor of the alternative hypothesis, based on sample data collected from male and female college students."
   ]
  },
  {
   "cell_type": "markdown",
   "id": "3b4d16eb",
   "metadata": {},
   "source": [
    "Q5. Write a Python script to conduct a hypothesis test on the difference between two population means, \n",
    "given a sample from each population.\n",
    "\n"
   ]
  },
  {
   "cell_type": "markdown",
   "id": "5ffdd649",
   "metadata": {},
   "source": [
    "To conduct a hypothesis test on the difference between two population means, given a sample from each population, we can use statistical functions from libraries such as SciPy or StatsModels in Python. "
   ]
  },
  {
   "cell_type": "code",
   "execution_count": 4,
   "id": "ccb9f0cf",
   "metadata": {},
   "outputs": [
    {
     "name": "stdout",
     "output_type": "stream",
     "text": [
      "Sample Mean Male Weight: 79.42856447263175\n",
      "Sample Mean Female Weight: 66.52573772615223\n",
      "T-statistic: 4.548288529457061\n",
      "P-value: 2.807396584864596e-05\n",
      "Reject the null hypothesis: There is evidence that the average weight of male college students is greater than that of female college students.\n"
     ]
    }
   ],
   "source": [
    "import numpy as np\n",
    "from scipy import stats\n",
    "\n",
    "# Generate sample data for two populations\n",
    "np.random.seed(0)\n",
    "sample_size = 30  # Sample size for each population\n",
    "male_weights = np.random.normal(loc=75, scale=10, size=sample_size)  # Sample weights for males\n",
    "female_weights = np.random.normal(loc=70, scale=12, size=sample_size)  # Sample weights for females\n",
    "\n",
    "# Perform two-sample t-test for independent samples\n",
    "t_stat, p_value = stats.ttest_ind(male_weights, female_weights, equal_var=False)\n",
    "\n",
    "# Set significance level\n",
    "alpha = 0.05\n",
    "\n",
    "# Print results\n",
    "print(f\"Sample Mean Male Weight: {np.mean(male_weights)}\")\n",
    "print(f\"Sample Mean Female Weight: {np.mean(female_weights)}\")\n",
    "print(f\"T-statistic: {t_stat}\")\n",
    "print(f\"P-value: {p_value}\")\n",
    "\n",
    "# Compare p-value with significance level\n",
    "if p_value < alpha:\n",
    "    print(\"Reject the null hypothesis: There is evidence that the average weight of male college students is greater than that of female college students.\")\n",
    "else:\n",
    "    print(\"Fail to reject the null hypothesis: There is no sufficient evidence to conclude that the average weight of male college students is greater than that of female college students.\")\n"
   ]
  },
  {
   "cell_type": "markdown",
   "id": "45b451d8",
   "metadata": {},
   "source": [
    "In this script:\n",
    "\n",
    "We generate random sample data for two populations (male and female weights).\n",
    "\n",
    "We use the stats.ttest_ind() function from SciPy to perform a two-sample t-test for independent samples, assuming unequal variances (equal_var=False).\n",
    "\n",
    "We compare the obtained p-value with the chosen significance level (alpha) to make a decision about rejecting or failing to reject the null hypothesis."
   ]
  },
  {
   "cell_type": "markdown",
   "id": "c5b2f39e",
   "metadata": {},
   "source": [
    "Q6: What is a null and alternative hypothesis? Give some examples.\n",
    "\n"
   ]
  },
  {
   "cell_type": "markdown",
   "id": "5508e1e9",
   "metadata": {},
   "source": [
    "The null hypothesis (H0) and alternative hypothesis (Ha) are fundamental concepts in hypothesis testing. They represent competing statements or claims about a population parameter that are tested using sample data.\n",
    "\n",
    "Example 1 - Mean Comparison: \n",
    "\n",
    "Null Hypothesis : The average IQ score of students in a school is 100.\n",
    "\n",
    "Alternative Hypothesis: The average IQ score of students in a school is not 100 (two-tailed test) or is greater/less than 100 (one-tailed test).\n",
    "\n",
    "Example 2 - Proportion Comparison:\n",
    "\n",
    "Null Hypothesis : The proportion of voters supporting Candidate A is 50%.\n",
    "\n",
    "Alternative Hypothesis : The proportion of voters supporting Candidate A is different from 50% (two-tailed test) or is greater/less than 50% (one-tailed test).\n",
    "\n",
    "Example 3 - Difference in Means:\n",
    "\n",
    "Null Hypothesis : There is no difference in the average salary between male and female employees.\n",
    "\n",
    "Alternative Hypothesis : There is a difference in the average salary between male and female employees (two-tailed test) or male employees have a higher/lower average salary than female employees (one-tailed test)."
   ]
  },
  {
   "cell_type": "markdown",
   "id": "a28705b1",
   "metadata": {},
   "source": [
    "Q7: Write down the steps involved in hypothesis testing.\n",
    "\n"
   ]
  },
  {
   "cell_type": "markdown",
   "id": "13bceb56",
   "metadata": {},
   "source": [
    "Formulate Hypotheses\n",
    "\n",
    "Choose Significance Level\n",
    "\n",
    "Collect and Analyze Data\n",
    "\n",
    "Calculate Test Statistic\n",
    "\n",
    "Determine Critical Value or P-value\n",
    "\n",
    "Make Decision\n",
    "\n",
    "Draw Conclusion"
   ]
  },
  {
   "cell_type": "markdown",
   "id": "96b79bbd",
   "metadata": {},
   "source": [
    "Q8. Define p-value and explain its significance in hypothesis testing.\n",
    "\n"
   ]
  },
  {
   "cell_type": "markdown",
   "id": "984656cd",
   "metadata": {},
   "source": [
    "The p-value is a probability metric that quantifies the strength of evidence against the null hypothesis (H0) in hypothesis testing. It represents the probability of obtaining test results as extreme as or more extreme than the observed results, assuming that the null hypothesis is true. A low p-value indicates strong evidence against the null hypothesis, suggesting that the observed results are unlikely under the null hypothesis.\n",
    "\n",
    "In hypothesis testing, the significance level (α) is typically chosen as a threshold for the p-value. If the p-value is less than or equal to the significance level, typically 0.05, the null hypothesis is rejected. Conversely, if the p-value is greater than the significance level, we fail to reject the null hypothesis.\n",
    "\n",
    "The p-value plays a crucial role in hypothesis testing as it provides a quantitative measure of the strength of evidence against the null hypothesis. It helps researchers make informed decisions about the statistical significance of their findings and draw valid conclusions based on sample data.\n",
    "\n",
    "\n",
    "\n",
    "\n",
    "\n",
    "\n"
   ]
  },
  {
   "cell_type": "markdown",
   "id": "7ebd8a72",
   "metadata": {},
   "source": [
    "Q9. Generate a Student's t-distribution plot using Python's matplotlib library, with the degrees of freedom \n",
    "parameter set to 10.\n",
    "\n"
   ]
  },
  {
   "cell_type": "markdown",
   "id": "aff233eb",
   "metadata": {},
   "source": [
    "To generate a Student's t-distribution plot with degrees of freedom set to 10 using Python's matplotlib library, you can follow these steps:\n",
    "\n",
    "Import the necessary libraries:\n",
    "\n",
    "matplotlib.pyplot for plotting.\n",
    "numpy for mathematical operations.\n",
    "Generate the t-distribution data using the scipy.stats module.\n",
    "\n",
    "Plot the t-distribution using matplotlib."
   ]
  },
  {
   "cell_type": "code",
   "execution_count": 6,
   "id": "ca8a317d",
   "metadata": {},
   "outputs": [
    {
     "data": {
      "image/png": "[encoded data removed]",
      "text/plain": [
       "<Figure size 800x600 with 1 Axes>"
      ]
     },
     "metadata": {},
     "output_type": "display_data"
    }
   ],
   "source": [
    "import numpy as np\n",
    "import matplotlib.pyplot as plt\n",
    "from scipy.stats import t\n",
    "\n",
    "# Set degrees of freedom\n",
    "df = 10\n",
    "\n",
    "# Generate t-distribution data\n",
    "x = np.linspace(-4, 4, 1000)  # Define x-axis values\n",
    "pdf_values = t.pdf(x, df)  # Calculate PDF values for t-distribution\n",
    "\n",
    "# Plot the t-distribution\n",
    "plt.figure(figsize=(8, 6))\n",
    "plt.plot(x, pdf_values, label=f\"Degrees of Freedom: {df}\")\n",
    "plt.title(\"Student's t-Distribution\")\n",
    "plt.xlabel(\"x\")\n",
    "plt.ylabel(\"Probability Density\")\n",
    "plt.legend()\n",
    "plt.grid(True)\n",
    "plt.show()\n"
   ]
  },
  {
   "cell_type": "markdown",
   "id": "add9ade1",
   "metadata": {},
   "source": [
    "In this code:\n",
    "\n",
    "We import numpy as np, matplotlib.pyplot as plt, and t from scipy.stats to generate the t-distribution.\n",
    "\n",
    "We set the degrees of freedom (df) to 10.\n",
    "\n",
    "We define the x-axis values (x) for the t-distribution plot and calculate the corresponding PDF values using t.pdf() function.\n",
    "\n",
    "Finally, we plot the t-distribution using plt.plot() and customize the plot with a title, labels, legend, and grid.\n",
    "\n",
    "When you run this code, it will generate a plot showing the Student's t-distribution with degrees of freedom set to 10. Adjust the range and resolution of x values (np.linspace) as needed for your plot."
   ]
  },
  {
   "cell_type": "markdown",
   "id": "84d505c8",
   "metadata": {},
   "source": [
    "Q10. Write a Python program to calculate the two-sample t-test for independent samples, given two \n",
    "random samples of equal size and a null hypothesis that the population means are equal.\n",
    "\n"
   ]
  },
  {
   "cell_type": "code",
   "execution_count": 7,
   "id": "5023ec05",
   "metadata": {},
   "outputs": [
    {
     "name": "stdout",
     "output_type": "stream",
     "text": [
      "Sample Mean 1: 74.42856447263175\n",
      "Sample Mean 2: 68.52573772615223\n",
      "T-statistic: 2.0807656887829196\n",
      "P-value: 0.04188163590438301\n",
      "Reject the null hypothesis: There is evidence that the population means are not equal.\n"
     ]
    }
   ],
   "source": [
    "import numpy as np\n",
    "from scipy import stats\n",
    "\n",
    "# Generate two random samples of equal size\n",
    "np.random.seed(0)\n",
    "sample_size = 30\n",
    "sample1 = np.random.normal(loc=70, scale=10, size=sample_size)  # Sample 1\n",
    "sample2 = np.random.normal(loc=72, scale=12, size=sample_size)  # Sample 2\n",
    "\n",
    "# Perform two-sample t-test for independent samples\n",
    "t_stat, p_value = stats.ttest_ind(sample1, sample2)\n",
    "\n",
    "# Set significance level\n",
    "alpha = 0.05\n",
    "\n",
    "# Print results\n",
    "print(f\"Sample Mean 1: {np.mean(sample1)}\")\n",
    "print(f\"Sample Mean 2: {np.mean(sample2)}\")\n",
    "print(f\"T-statistic: {t_stat}\")\n",
    "print(f\"P-value: {p_value}\")\n",
    "\n",
    "# Compare p-value with significance level\n",
    "if p_value < alpha:\n",
    "    print(\"Reject the null hypothesis: There is evidence that the population means are not equal.\")\n",
    "else:\n",
    "    print(\"Fail to reject the null hypothesis: There is no sufficient evidence to conclude that the population means are not equal.\")\n"
   ]
  },
  {
   "cell_type": "markdown",
   "id": "df4ec609",
   "metadata": {},
   "source": [
    "We generate two random samples (sample1 and sample2) of equal size using NumPy's np.random.normal() function.\n",
    "\n",
    "We use the stats.ttest_ind() function from SciPy to perform the two-sample t-test for independent samples.\n",
    "\n",
    "We compare the obtained p-value with the chosen significance level (alpha) to make a decision about rejecting or failing to reject the null hypothesis that the population means are equal.\n",
    "\n",
    "Adjust the mean (loc) and standard deviation (scale) values in the np.random.normal() function to generate different sample data for your specific testing scenario. Also, modify the significance level (alpha) as needed for your hypothesis test."
   ]
  },
  {
   "cell_type": "markdown",
   "id": "bc8a26aa",
   "metadata": {},
   "source": [
    "Q11: What is Student’s t distribution? When to use the t-Distribution.\n",
    "\n"
   ]
  },
  {
   "cell_type": "markdown",
   "id": "f9f2521d",
   "metadata": {},
   "source": [
    "The Student's t-distribution, or t-distribution, is a probability distribution that is similar to the normal distribution but with heavier tails. It is used in statistical inference when dealing with small sample sizes (typically n < 30) and when the population standard deviation is unknown.\n",
    "\n",
    "Similarity to Normal Distribution: The t-distribution resembles the normal distribution but is more robust for small sample sizes, providing better estimates of uncertainty.\n",
    "\n",
    "Incorporates Sample Size: It accounts for the variability introduced by smaller sample sizes through the degrees of freedom, making it suitable when working with limited data.\n",
    "\n",
    "Unknown Population Standard Deviation: When the population standard deviation is not known and must be estimated from the sample, the t-distribution provides more accurate inference compared to assuming a normal distribution.\n",
    "\n",
    "Hypothesis Testing: The t-distribution is commonly used in t-tests to compare means from two samples or conduct confidence intervals, particularly in situations where larger sample sizes are not feasible.\n",
    "\n",
    "Practical Application: Due to its versatility in handling real-world data scenarios with small sample sizes and uncertainty about population parameters, the t-distribution is a fundamental tool in statistical analysis and hypothesis testing.\n",
    "\n",
    "\n",
    "\n",
    "\n",
    "\n"
   ]
  },
  {
   "cell_type": "markdown",
   "id": "f2622610",
   "metadata": {},
   "source": [
    "Q12: What is t-statistic? State the formula for t-statistic.\n",
    "\n"
   ]
  },
  {
   "cell_type": "markdown",
   "id": "c4cc77de",
   "metadata": {},
   "source": [
    "The t-statistic is a measure used in hypothesis testing to assess the significance of the difference between sample means or proportions, particularly when the population standard deviation is unknown and must be estimated from the sample data. It quantifies how much the sample mean differs from the hypothesized population mean, relative to the variability in the sample.\n",
    "\n",
    "Formula for the t-statistic (two-sample t-test):\n",
    "\n",
    "t = (mean1 - mean2) / np.sqrt((var1 / n1) + (var2 / n2))\n",
    "\n",
    "\n",
    "Degrees of Freedom for two-sample t-test:\n",
    "\n",
    "df = n1 + n2 - 2\n",
    "\n"
   ]
  },
  {
   "cell_type": "markdown",
   "id": "6cf20707",
   "metadata": {},
   "source": [
    "Q13. A coffee shop owner wants to estimate the average daily revenue for their shop. They take a random \n",
    "sample of 50 days and find the sample mean revenue to be $500 with a standard deviation of $50. \n",
    "Estimate the population mean revenue with a 95% confidence interval.\n",
    "\n"
   ]
  },
  {
   "cell_type": "code",
   "execution_count": 8,
   "id": "7e535ac2",
   "metadata": {},
   "outputs": [
    {
     "name": "stdout",
     "output_type": "stream",
     "text": [
      "95% Confidence Interval: ($472.28, $527.72)\n"
     ]
    }
   ],
   "source": [
    "import numpy as np\n",
    "\n",
    "# Given data\n",
    "sample_mean = 500\n",
    "sample_size = 50\n",
    "sample_std = 100  # Estimated sample standard deviation\n",
    "\n",
    "# Calculate standard error\n",
    "standard_error = sample_std / np.sqrt(sample_size)\n",
    "\n",
    "# Calculate margin of error (critical value * standard error)\n",
    "margin_of_error = 1.96 * standard_error\n",
    "\n",
    "# Calculate lower and upper bounds of the confidence interval\n",
    "lower_bound = sample_mean - margin_of_error\n",
    "upper_bound = sample_mean + margin_of_error\n",
    "\n",
    "# Print the confidence interval\n",
    "print(f\"95% Confidence Interval: (${lower_bound:.2f}, ${upper_bound:.2f})\")\n"
   ]
  },
  {
   "cell_type": "markdown",
   "id": "97cdc75a",
   "metadata": {},
   "source": [
    "Q14. A researcher hypothesizes that a new drug will decrease blood pressure by 10 mmHg. They conduct a \n",
    "clinical trial with 100 patients and find that the sample mean decrease in blood pressure is 8 mmHg with a \n",
    "standard deviation of 3 mmHg. Test the hypothesis with a significance level of 0.05.\n",
    "\n"
   ]
  },
  {
   "cell_type": "code",
   "execution_count": 9,
   "id": "8a0ef3f7",
   "metadata": {},
   "outputs": [
    {
     "name": "stdout",
     "output_type": "stream",
     "text": [
      "T-statistic: -6.666666666666667\n",
      "Critical t-value: 1.6603911559963895\n",
      "P-value: 7.506144504985108e-10\n",
      "Reject the null hypothesis: The new drug significantly decreases blood pressure.\n"
     ]
    }
   ],
   "source": [
    "import numpy as np\n",
    "from scipy import stats\n",
    "\n",
    "# Given data\n",
    "sample_mean = 8\n",
    "population_mean = 10\n",
    "sample_std = 3\n",
    "sample_size = 100\n",
    "alpha = 0.05\n",
    "\n",
    "# Calculate t-statistic\n",
    "t_statistic = (sample_mean - population_mean) / (sample_std / np.sqrt(sample_size))\n",
    "\n",
    "# Calculate degrees of freedom\n",
    "df = sample_size - 1\n",
    "\n",
    "# Calculate critical t-value for one-tailed test\n",
    "critical_t_value = stats.t.ppf(1 - alpha, df)\n",
    "\n",
    "# Calculate p-value\n",
    "p_value = stats.t.sf(np.abs(t_statistic), df)\n",
    "\n",
    "# Print results\n",
    "print(f\"T-statistic: {t_statistic}\")\n",
    "print(f\"Critical t-value: {critical_t_value}\")\n",
    "print(f\"P-value: {p_value}\")\n",
    "\n",
    "# Make decision\n",
    "if t_statistic < critical_t_value or p_value < alpha:\n",
    "    print(\"Reject the null hypothesis: The new drug significantly decreases blood pressure.\")\n",
    "else:\n",
    "    print(\"Fail to reject the null hypothesis: There is no sufficient evidence to conclude that the new drug decreases blood pressure significantly.\")\n"
   ]
  },
  {
   "cell_type": "markdown",
   "id": "20e4d170",
   "metadata": {},
   "source": [
    "We calculate the t-statistic using the given data and formula.\n",
    "\n",
    "We calculate the critical t-value for a one-tailed test and the p-value using the t-distribution with degrees of freedom df.\n",
    "\n",
    "Based on the calculated t-statistic and critical t-value or p-value, we make a decision to either reject or fail to reject the null hypothesis. Adjust the significance level (alpha) or other parameters as needed for your specific hypothesis test.\n",
    "\n",
    "\n",
    "\n",
    "\n",
    "\n"
   ]
  },
  {
   "cell_type": "markdown",
   "id": "43923d61",
   "metadata": {},
   "source": [
    "Q15. An electronics company produces a certain type of product with a mean weight of 5 pounds and a \n",
    "standard deviation of 0.5 pounds. A random sample of 25 products is taken, and the sample mean weight \n",
    "is found to be 4.8 pounds. Test the hypothesis that the true mean weight of the products is less than 5 \n",
    "pounds with a significance level of 0.01.\n",
    "\n"
   ]
  },
  {
   "cell_type": "code",
   "execution_count": 10,
   "id": "10ee2fb2",
   "metadata": {},
   "outputs": [
    {
     "name": "stdout",
     "output_type": "stream",
     "text": [
      "T-statistic: -2.0000000000000018\n",
      "Critical t-value: -2.4921594731575762\n",
      "P-value: 0.02846992496829572\n",
      "Fail to reject the null hypothesis: There is no sufficient evidence to conclude that the true mean weight of the products is less than 5 pounds.\n"
     ]
    }
   ],
   "source": [
    "import numpy as np\n",
    "from scipy import stats\n",
    "\n",
    "# Given data\n",
    "sample_mean = 4.8\n",
    "population_mean = 5\n",
    "sample_std = 0.5\n",
    "sample_size = 25\n",
    "alpha = 0.01\n",
    "\n",
    "# Calculate t-statistic\n",
    "t_statistic = (sample_mean - population_mean) / (sample_std / np.sqrt(sample_size))\n",
    "\n",
    "# Calculate degrees of freedom\n",
    "df = sample_size - 1\n",
    "\n",
    "# Calculate critical t-value for one-tailed test\n",
    "critical_t_value = stats.t.ppf(alpha, df)\n",
    "\n",
    "# Calculate p-value\n",
    "p_value = stats.t.sf(np.abs(t_statistic), df)\n",
    "\n",
    "# Print results\n",
    "print(f\"T-statistic: {t_statistic}\")\n",
    "print(f\"Critical t-value: {critical_t_value}\")\n",
    "print(f\"P-value: {p_value}\")\n",
    "\n",
    "# Make decision\n",
    "if t_statistic < critical_t_value or p_value < alpha:\n",
    "    print(\"Reject the null hypothesis: The true mean weight of the products is less than 5 pounds.\")\n",
    "else:\n",
    "    print(\"Fail to reject the null hypothesis: There is no sufficient evidence to conclude that the true mean weight of the products is less than 5 pounds.\")\n"
   ]
  },
  {
   "cell_type": "markdown",
   "id": "b7ab64b6",
   "metadata": {},
   "source": [
    "We calculate the t-statistic using the given data and formula.\n",
    "\n",
    "We calculate the critical t-value for a one-tailed test and the p-value using the t-distribution with degrees of freedom df.\n",
    "\n",
    "Based on the calculated t-statistic and critical t-value or p-value, we make a decision to either reject or fail to reject the null hypothesis. Adjust the significance level (alpha) or other parameters as needed for your specific hypothesis test.\n",
    "\n",
    "\n",
    "\n",
    "\n",
    "\n"
   ]
  },
  {
   "cell_type": "markdown",
   "id": "00153a19",
   "metadata": {},
   "source": [
    "Q16. Two groups of students are given different study materials to prepare for a test. The first group (n1 = \n",
    "30) has a mean score of 80 with a standard deviation of 10, and the second group (n2 = 40) has a mean \n",
    "score of 75 with a standard deviation of 8. Test the hypothesis that the population means for the two \n",
    "groups are equal with a significance level of 0.01.\n",
    "\n"
   ]
  },
  {
   "cell_type": "code",
   "execution_count": 11,
   "id": "2748435a",
   "metadata": {},
   "outputs": [
    {
     "name": "stdout",
     "output_type": "stream",
     "text": [
      "T-statistic: 2.3239677296992913\n",
      "Critical t-value: 2.6500812928169553\n",
      "P-value: 0.023123013413726044\n",
      "Fail to reject the null hypothesis: There is no sufficient evidence to conclude that the population means for the two groups are not equal.\n"
     ]
    }
   ],
   "source": [
    "import numpy as np\n",
    "from scipy import stats\n",
    "\n",
    "# Given data for group 1\n",
    "mean1 = 80\n",
    "std1 = 10\n",
    "n1 = 30\n",
    "\n",
    "# Given data for group 2\n",
    "mean2 = 75\n",
    "std2 = 8\n",
    "n2 = 40\n",
    "\n",
    "# Calculate the pooled standard deviation (assuming equal variances)\n",
    "pooled_std = np.sqrt(((n1 - 1) * std1**2 + (n2 - 1) * std2**2) / (n1 + n2 - 2))\n",
    "\n",
    "# Calculate the t-statistic\n",
    "t_statistic = (mean1 - mean2) / (pooled_std * np.sqrt(1/n1 + 1/n2))\n",
    "\n",
    "# Calculate the degrees of freedom\n",
    "df = n1 + n2 - 2\n",
    "\n",
    "# Calculate the critical t-value for a two-tailed test with alpha = 0.01\n",
    "critical_t_value = stats.t.ppf(1 - 0.01/2, df)\n",
    "\n",
    "# Calculate the p-value for the t-statistic\n",
    "p_value = 2 * stats.t.cdf(-np.abs(t_statistic), df)\n",
    "\n",
    "# Print results\n",
    "print(f\"T-statistic: {t_statistic}\")\n",
    "print(f\"Critical t-value: {critical_t_value}\")\n",
    "print(f\"P-value: {p_value}\")\n",
    "\n",
    "# Make decision\n",
    "if np.abs(t_statistic) > critical_t_value or p_value < 0.01:\n",
    "    print(\"Reject the null hypothesis: The population means for the two groups are not equal.\")\n",
    "else:\n",
    "    print(\"Fail to reject the null hypothesis: There is no sufficient evidence to conclude that the population means for the two groups are not equal.\")\n"
   ]
  },
  {
   "cell_type": "markdown",
   "id": "8875dd5b",
   "metadata": {},
   "source": [
    "We calculate the pooled standard deviation (assuming equal variances) and then compute the t-statistic using the independent samples t-test formula.\n",
    "\n",
    "We determine the critical t-value for a two-tailed test with a significance level of 0.01.\n",
    "\n",
    "Based on the calculated t-statistic and critical t-value or p-value, we make a decision to either reject or fail to reject the null hypothesis. Adjust the significance level (alpha) or other parameters as needed for your specific hypothesis test.\n",
    "\n",
    "\n",
    "\n",
    "\n",
    "\n"
   ]
  },
  {
   "cell_type": "markdown",
   "id": "82dd6523",
   "metadata": {},
   "source": [
    "Q17. A marketing company wants to estimate the average number of ads watched by viewers during a TV \n",
    "program. They take a random sample of 50 viewers and find that the sample mean is 4 with a standard \n",
    "deviation of 1.5. Estimate the population mean with a 99% confidence interval."
   ]
  },
  {
   "cell_type": "code",
   "execution_count": 12,
   "id": "4e7f6f91",
   "metadata": {},
   "outputs": [
    {
     "name": "stdout",
     "output_type": "stream",
     "text": [
      "99% Confidence Interval: (3.43, 4.57)\n"
     ]
    }
   ],
   "source": [
    "import numpy as np\n",
    "from scipy import stats\n",
    "\n",
    "# Given data\n",
    "sample_mean = 4\n",
    "sample_std = 1.5\n",
    "sample_size = 50\n",
    "confidence_level = 0.99\n",
    "\n",
    "# Calculate standard error\n",
    "standard_error = sample_std / np.sqrt(sample_size)\n",
    "\n",
    "# Calculate degrees of freedom\n",
    "df = sample_size - 1\n",
    "\n",
    "# Find the critical t-value for a two-tailed test with alpha = 0.01/2 = 0.005 and df = 49\n",
    "critical_t_value = stats.t.ppf(1 - (1 - confidence_level) / 2, df)\n",
    "\n",
    "# Calculate margin of error\n",
    "margin_of_error = critical_t_value * standard_error\n",
    "\n",
    "# Calculate lower and upper bounds of the confidence interval\n",
    "lower_bound = sample_mean - margin_of_error\n",
    "upper_bound = sample_mean + margin_of_error\n",
    "\n",
    "# Print the confidence interval\n",
    "print(f\"99% Confidence Interval: ({lower_bound:.2f}, {upper_bound:.2f})\")\n"
   ]
  },
  {
   "cell_type": "markdown",
   "id": "b607dadb",
   "metadata": {},
   "source": [
    "We calculate the standard error using the sample standard deviation and sample size.\n",
    "\n",
    "We find the critical t-value using the inverse cumulative distribution function (stats.t.ppf) for a two-tailed test with the given confidence level and degrees of freedom.\n",
    "\n",
    "Then, we calculate the margin of error and use it to determine the lower and upper bounds of the confidence interval.\n",
    "\n",
    "Finally, we print the 99% confidence interval for the population mean number of ads watched by viewers during a TV program based on the sample data. Adjust the parameters (sample_mean, sample_std, sample_size, confidence_level) as needed for your specific scenario.\n",
    "\n",
    "\n",
    "\n",
    "\n",
    "\n"
   ]
  },
  {
   "cell_type": "code",
   "execution_count": null,
   "id": "6bcacb44",
   "metadata": {},
   "outputs": [],
   "source": []
  }
 ],
 "metadata": {
  "kernelspec": {
   "display_name": "Python 3 (ipykernel)",
   "language": "python",
   "name": "python3"
  },
  "language_info": {
   "codemirror_mode": {
    "name": "ipython",
    "version": 3
   },
   "file_extension": ".py",
   "mimetype": "text/x-python",
   "name": "python",
   "nbconvert_exporter": "python",
   "pygments_lexer": "ipython3",
   "version": "3.9.13"
  }
 },
 "nbformat": 4,
 "nbformat_minor": 5
}
