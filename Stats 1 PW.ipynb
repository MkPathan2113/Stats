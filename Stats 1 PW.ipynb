{
 "cells": [
  {
   "cell_type": "markdown",
   "id": "2d32bb16",
   "metadata": {},
   "source": [
    "Q1. What is Statistics?\n"
   ]
  },
  {
   "cell_type": "markdown",
   "id": "3e131fcb",
   "metadata": {},
   "source": [
    "Statistics is the science of collecting , organizing and analysing data "
   ]
  },
  {
   "cell_type": "markdown",
   "id": "1ab2df45",
   "metadata": {},
   "source": [
    "Q2. Define the different types of statistics and give an example of when each type might be used.\n"
   ]
  },
  {
   "cell_type": "markdown",
   "id": "5fbbd7e7",
   "metadata": {},
   "source": [
    "Descriptive Statistics:\n",
    "\n",
    "Descriptive statistics involve organizing, summarizing, and presenting data in a meaningful way. They provide insights into the main features of the data.\n",
    "Examples include measures of central tendency (mean, median, mode), measures of variability (range, variance, standard deviation), and graphical representations (histograms, box plots, pie charts).\n",
    "Example: Suppose you have collected data on the heights of students in a classroom. Descriptive statistics can help you summarize this data by calculating the average height (mean), the most common height (mode), and how spread out the heights are (standard deviation).\n",
    "\n",
    "\n",
    "Inferential Statistics:\n",
    "\n",
    "Inferential statistics involve making inferences or predictions about a population based on a sample of data from that population. It allows us to draw conclusions and make decisions in situations where we only have partial information.\n",
    "Examples include hypothesis testing, confidence intervals, and regression analysis.\n",
    "Example: Suppose you want to determine if there is a significant difference in the test scores of students who attended a tutoring program compared to those who didn't. You can use inferential statistics, such as a t-test, to compare the means of the two groups and determine if the difference is statistically significant."
   ]
  },
  {
   "cell_type": "markdown",
   "id": "9067440e",
   "metadata": {},
   "source": [
    "Q3. What are the different types of data and how do they differ from each other? Provide an example of\n",
    "each type of data.\n",
    "\n"
   ]
  },
  {
   "cell_type": "markdown",
   "id": "2f6424bc",
   "metadata": {},
   "source": [
    "Nominal Data:\n",
    "\n",
    "Nominal data consist of categories or labels with no inherent order or ranking.\n",
    "Examples include gender (male, female), marital status (married, single, divorced), and types of fruit (apple, banana, orange).\n",
    "\n",
    "\n",
    "Ordinal Data:\n",
    "\n",
    "Ordinal data have categories with a natural order or ranking, but the intervals between the categories may not be uniform or measurable.\n",
    "Examples include educational attainment (high school diploma, bachelor's degree, master's degree), Likert scale responses (strongly agree, agree, neutral, disagree, strongly disagree), and socioeconomic status (low, middle, high).\n",
    "\n",
    "\n",
    "Interval Data:\n",
    "\n",
    "Interval data have categories with a uniform interval or distance between them, but there is no true zero point.\n",
    "Examples include temperature measured in Celsius or Fahrenheit (where 0°C or 0°F does not represent absence of temperature), calendar dates (months, days, years), and IQ scores.\n",
    "\n",
    "\n",
    "Ratio Data:\n",
    "\n",
    "Ratio data have categories with a uniform interval between them and a true zero point, where zero indicates the absence of the variable being measured.\n",
    "Examples include height (measured in inches or centimeters), weight (measured in pounds or kilograms), time (measured in seconds), and income (measured in dollars)."
   ]
  },
  {
   "cell_type": "markdown",
   "id": "4aee527e",
   "metadata": {},
   "source": [
    "Q4. Categorise the following datasets with respect to quantitative and qualitative data types:\n",
    "\n",
    "(i) Grading in exam: A+, A, B+, B, C+, C, D, E\n",
    "\n",
    "(ii) Colour of mangoes: yellow, green, orange, red\n",
    "\n",
    "(iii) Height data of a class: [178.9, 179, 179.5, 176, 177.2, 178.3, 175.8,...]\n",
    "\n",
    "(iv) Number of mangoes exported by a farm: [500, 600, 478, 672, ...]"
   ]
  },
  {
   "cell_type": "markdown",
   "id": "b9cc86c1",
   "metadata": {},
   "source": [
    "(i) Grading in exam: A+, A, B+, B, C+, C, D, E\n",
    "\n",
    "Qualitative data: The grading system consists of categories or labels (A+, A, B+, etc.), so it falls under qualitative data.\n",
    "\n",
    "\n",
    "(ii) Colour of mangoes: yellow, green, orange, red\n",
    "\n",
    "Qualitative data: The colors of mangoes are categories or labels, making it qualitative data.\n",
    "\n",
    "\n",
    "(iii) Height data of a class: [178.9, 179, 179.5, 176, 177.2, 178.3, 175.8,...]\n",
    "\n",
    "Quantitative data: Heights are numerical measurements, indicating quantity or amount, so it falls under quantitative data.\n",
    "\n",
    "\n",
    "(iv) Number of mangoes exported by a farm: [500, 600, 478, 672, ...]\n",
    "\n",
    "Quantitative data: The number of mangoes exported represents numerical values, indicating quantity or amount, so it's quantitative data."
   ]
  },
  {
   "cell_type": "markdown",
   "id": "3cbbb098",
   "metadata": {},
   "source": [
    "Q5. Explain the concept of levels of measurement and give an example of a variable for each level.\n"
   ]
  },
  {
   "cell_type": "markdown",
   "id": "3340d901",
   "metadata": {},
   "source": [
    "Nominal Level of Measurement:\n",
    "\n",
    "At the nominal level, variables are categorized into distinct categories or groups with no inherent order or ranking.\n",
    "Examples: Gender (male, female), Marital status (single, married, divorced), Eye color (blue, brown, green).\n",
    "At this level, only qualitative data are obtained, and mathematical operations such as addition and subtraction are not meaningful.\n",
    "\n",
    "\n",
    "Ordinal Level of Measurement:\n",
    "\n",
    "In ordinal measurement, variables are ranked or ordered, but the differences between the ranks may not be uniform or measurable.\n",
    "Examples: Educational attainment (high school diploma, bachelor's degree, master's degree), Likert scale responses (strongly agree, agree, neutral, disagree, strongly disagree), Survey ratings (poor, fair, good, excellent).\n",
    "While the order of the categories is significant, the magnitude of the differences between them may not be consistent. Therefore, only rank order can be determined, but not the distance between ranks.\n",
    "\n",
    "\n",
    "Interval Level of Measurement:\n",
    "\n",
    "Interval measurement involves categories with a uniform interval between them, but there is no true zero point.\n",
    "Examples: Temperature measured in Celsius or Fahrenheit, Calendar dates (months, days, years), IQ scores.\n",
    "At this level, arithmetic operations such as addition and subtraction are meaningful, but ratios and meaningful differences between values are not, as there is no true zero point.\n",
    "\n",
    "\n",
    "Ratio Level of Measurement:\n",
    "\n",
    "Ratio measurement includes categories with a uniform interval between them and a true zero point, where zero represents the absence of the variable being measured.\n",
    "Examples: Height (measured in inches or centimeters), Weight (measured in pounds or kilograms), Time (measured in seconds), Income (measured in dollars).\n",
    "At this level, arithmetic operations such as addition, subtraction, multiplication, and division are all meaningful. Ratios and meaningful differences between values can also be determined."
   ]
  },
  {
   "cell_type": "markdown",
   "id": "07d13adf",
   "metadata": {},
   "source": [
    "Q6. Why is it important to understand the level of measurement when analyzing data? Provide an\n",
    "example to illustrate your answer.\n"
   ]
  },
  {
   "cell_type": "markdown",
   "id": "1cdb3f93",
   "metadata": {},
   "source": [
    "Understanding the level of measurement of variables is crucial when analyzing data because it determines the types of statistical analyses and operations that can be performed on the data, as well as the interpretation of the results obtained.\n",
    "\n",
    "Suppose a researcher wants to analyze the satisfaction levels of customers regarding a product using survey responses. The survey asks respondents to rate their satisfaction on a scale of 1 to 5, with 1 being \"very dissatisfied\" and 5 being \"very satisfied.\"\n",
    "\n",
    "If the researcher treats the satisfaction ratings as nominal data, they might use frequency counts or chi-square tests to analyze the distribution of responses across categories.\n",
    "\n",
    "If the researcher treats the satisfaction ratings as ordinal data, they might calculate median satisfaction scores or use non-parametric tests like the Mann-Whitney U test to compare satisfaction levels between groups.\n",
    "\n",
    "If the researcher treats the satisfaction ratings as interval data, they might calculate mean satisfaction scores or use parametric tests like the t-test to compare means between groups.\n",
    "\n",
    "If the researcher treats the satisfaction ratings as ratio data, they might calculate ratios such as the proportion of respondents who are \"very satisfied\" or use analysis of variance (ANOVA) to compare satisfaction levels among multiple groups."
   ]
  },
  {
   "cell_type": "markdown",
   "id": "40167f6c",
   "metadata": {},
   "source": [
    "Q7. How nominal data type is different from ordinal data type.\n"
   ]
  },
  {
   "cell_type": "markdown",
   "id": "d950c43a",
   "metadata": {},
   "source": [
    "Nominal data consists of categories with no inherent order or ranking, while ordinal data includes categories with a natural order or ranking. Nominal data only provide labels or names for categories, whereas ordinal data allow for the ranking of categories based on their relative position.\n",
    "\n",
    "\n",
    "\n",
    "\n",
    "\n",
    "\n"
   ]
  },
  {
   "cell_type": "markdown",
   "id": "74ec1dcb",
   "metadata": {},
   "source": [
    "Q8. Which type of plot can be used to display data in terms of range?\n"
   ]
  },
  {
   "cell_type": "markdown",
   "id": "ee9184e7",
   "metadata": {},
   "source": [
    "A box plot (also known as a box-and-whisker plot) is commonly used to display data in terms of range. It provides a visual summary of the distribution of a dataset, including the minimum, maximum, median, and quartiles. The box represents the interquartile range (IQR), while the \"whiskers\" extend to the minimum and maximum values of the dataset, showing the range of the data.\n",
    "\n",
    "\n",
    "\n",
    "\n",
    "\n",
    "\n"
   ]
  },
  {
   "cell_type": "markdown",
   "id": "dc38cbec",
   "metadata": {},
   "source": [
    "Q9. Describe the difference between descriptive and inferential statistics. Give an example of each\n",
    "type of statistics and explain how they are used.\n"
   ]
  },
  {
   "cell_type": "markdown",
   "id": "69a9ad0d",
   "metadata": {},
   "source": [
    "Descriptive statistics summarize and describe features of a dataset, while inferential statistics make predictions or inferences about populations based on sample data.\n",
    "\n",
    "Example of descriptive statistics: Calculating the mean, median, and standard deviation of students' test scores to understand the central tendency and variability in the class.\n",
    "\n",
    "Example of inferential statistics: Conducting a hypothesis test to determine if there is a significant difference in the average income between two cities based on survey data samples."
   ]
  },
  {
   "cell_type": "markdown",
   "id": "df31e4db",
   "metadata": {},
   "source": [
    "Q10. What are some common measures of central tendency and variability used in statistics? Explain\n",
    "how each measure can be used to describe a dataset.\n"
   ]
  },
  {
   "cell_type": "markdown",
   "id": "cd6cb064",
   "metadata": {},
   "source": [
    "Common measures of central tendency include the mean (average), median (middle value), and mode (most frequent value), which describe where the center of a dataset lies. Measures of variability like range (difference between maximum and minimum values), variance (average squared deviation from the mean), and standard deviation (average distance of data points from the mean) quantify the spread or dispersion of data points, providing insights into the data's variability and distribution.\n",
    "\n",
    "\n",
    "\n",
    "\n",
    "\n",
    "\n"
   ]
  },
  {
   "cell_type": "code",
   "execution_count": null,
   "id": "bf724cff",
   "metadata": {},
   "outputs": [],
   "source": []
  }
 ],
 "metadata": {
  "kernelspec": {
   "display_name": "Python 3 (ipykernel)",
   "language": "python",
   "name": "python3"
  },
  "language_info": {
   "codemirror_mode": {
    "name": "ipython",
    "version": 3
   },
   "file_extension": ".py",
   "mimetype": "text/x-python",
   "name": "python",
   "nbconvert_exporter": "python",
   "pygments_lexer": "ipython3",
   "version": "3.9.13"
  }
 },
 "nbformat": 4,
 "nbformat_minor": 5
}
