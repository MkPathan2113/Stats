{
 "cells": [
  {
   "cell_type": "markdown",
   "id": "a5013ab5",
   "metadata": {},
   "source": [
    "Q1: What is the difference between a t-test and a z-test? Provide an example scenario where you would \n",
    "use each type of test.\n",
    "\n"
   ]
  },
  {
   "cell_type": "markdown",
   "id": "403cb5c3",
   "metadata": {},
   "source": [
    "The main difference between a t-test and a z-test lies in the population parameters being tested and the sample size. A t-test is used when the population standard deviation is unknown and the sample size is small (typically less than 30), whereas a z-test is used when the population standard deviation is known or when the sample size is large (typically greater than 30).\n",
    "\n",
    "Example scenario:\n",
    "\n",
    "Use a t-test: You want to compare the mean scores of two groups of students (e.g., Group A and Group B) on a test where the population standard deviation is unknown, and each group consists of fewer than 30 students.\n",
    "\n",
    "Use a z-test: You want to compare the mean heights of two populations (e.g., males and females) where the population standard deviations are known, or you have a large sample size for each population (e.g., more than 30 individuals in each group)."
   ]
  },
  {
   "cell_type": "markdown",
   "id": "c7f6b094",
   "metadata": {},
   "source": [
    "Q2: Differentiate between one-tailed and two-tailed tests.\n",
    "\n"
   ]
  },
  {
   "cell_type": "markdown",
   "id": "c9f5ac43",
   "metadata": {},
   "source": [
    "A one-tailed test focuses on one direction of an effect or difference, either looking for a result that is greater than or less than a certain value. A two-tailed test considers both directions of the effect or difference, looking for results that are significantly different in either direction from a specified value.\n",
    "\n",
    "\n",
    "\n",
    "\n",
    "\n",
    "\n"
   ]
  },
  {
   "cell_type": "markdown",
   "id": "674e79c8",
   "metadata": {},
   "source": [
    "Q3: Explain the concept of Type 1 and Type 2 errors in hypothesis testing. Provide an example scenario for \n",
    "each type of error.\n",
    "\n"
   ]
  },
  {
   "cell_type": "markdown",
   "id": "241e78a6",
   "metadata": {},
   "source": [
    "Type 1 Error : In this case we reject the null hypothesi while in reality that is True \n",
    "    \n",
    "Example Scenario: \n",
    "\n",
    "Let's say a pharmaceutical company is testing a new drug to determine if it is effective in reducing blood pressure. The null hypothesis (H0) is that the drug has no effect (i.e., it's not different from a placebo). However, due to random chance or other factors, the study incorrectly concludes that the drug is effective (rejects the null hypothesis) when it actually isn't. This is a Type 1 error.\n",
    "\n",
    "\n",
    "Type 2 Error : In this case we ratian the null hypothesis while in rality that is False\n",
    "\n",
    "Example Scenario: \n",
    "\n",
    "Continuing with the pharmaceutical example, suppose the drug actually does have a significant effect in reducing blood pressure (alternative hypothesis, H1), but the study fails to detect this effect. This could happen due to a small sample size, high variability, or other factors that lead to the study's inability to reject the null hypothesis. In this case, the study commits a Type 2 error by failing to identify the drug's effectiveness."
   ]
  },
  {
   "cell_type": "markdown",
   "id": "cb0c854a",
   "metadata": {},
   "source": [
    "Q4:  Explain Bayes's theorem with an example.\n",
    "\n"
   ]
  },
  {
   "cell_type": "markdown",
   "id": "7a9de584",
   "metadata": {},
   "source": [
    "Bayes's theorem is a fundamental concept in probability theory and statistics. It describes how to update the probability of a hypothesis based on new evidence. The theorem is named after the Reverend Thomas Bayes and is widely used in fields such as machine learning, statistics, and Bayesian inference.\n",
    "\n",
    "Bayes's theorem can be stated mathematically as:\n",
    "\n",
    "P(A∣B)= P(A) * P(B∣A) / P(B)\n",
    "\n",
    "Where:\n",
    "\n",
    "P(A∣B) is the probability of event A given that event B has occurred (posterior probability).\n",
    "\n",
    "P(B∣A) is the probability of event B given that event A has occurred (likelihood).\n",
    "\n",
    "P(A) is the prior probability of event A (the initial belief about the probability of A before considering evidence B).\n",
    "\n",
    "P(B) is the probability of event B (normalizing constant).\n"
   ]
  },
  {
   "cell_type": "markdown",
   "id": "5579217d",
   "metadata": {},
   "source": [
    "Q5: What is a confidence interval? How to calculate the confidence interval, explain with an example.\n",
    "\n"
   ]
  },
  {
   "cell_type": "markdown",
   "id": "cbb4308d",
   "metadata": {},
   "source": [
    "A confidence interval is a range of values that is likely to contain the true value of a population parameter, such as a population mean or proportion, with a specified level of confidence. It is used in statistics to quantify the uncertainty or variability associated with estimating population parameters based on sample data.\n",
    "\n",
    "The calculation of a confidence interval depends on the type of parameter being estimated (mean, proportion, etc.) and the sample data's characteristics, such as sample size and variability.\n",
    "\n",
    "Confidence Interval = 1 - Significance Value\n",
    "\n",
    "\n",
    "Calculate the Confidence Interval:\n",
    "\n",
    "The confidence interval (CI) for the population mean is given by:\n",
    "\n",
    "CI = Sample Mean ± Margin of Error\n",
    "\n",
    "Substituting the values, CI = 65 ± 0.85 inches.\n",
    "\n",
    "Therefore, the 95% confidence interval for the population mean height is (65 - 0.85) to (65 + 0.85) inches, or approximately 64.15 to 65.85 inches."
   ]
  },
  {
   "cell_type": "markdown",
   "id": "4bf986a4",
   "metadata": {},
   "source": [
    "Q6. Use Bayes' Theorem to calculate the probability of an event occurring given prior knowledge of the \n",
    "event's probability and new evidence. Provide a sample problem and solution.\n",
    "\n"
   ]
  },
  {
   "cell_type": "markdown",
   "id": "5dd4f147",
   "metadata": {},
   "source": [
    "Suppose there is a rare disease that affects 1 in 10,000 people. A diagnostic test for this disease is 99% accurate for positive results (true positive rate) and 95% accurate for negative results (true negative rate).\n",
    "\n",
    "Given that a person tested positive for the disease, what is the probability that the person actually has the disease?\n",
    "\n",
    "Solution:\n",
    "Let's denote:\n",
    "\n",
    "A = having the disease\n",
    "B = testing positive\n",
    "We are asked to find \n",
    "\n",
    "P(A∣B), the probability of having the disease given a positive test result.\n",
    "\n",
    "Given:\n",
    "\n",
    "P(A)=0.0001 (prior probability of having the disease)\n",
    "\n",
    "P(B∣A)=0.99 (likelihood of testing positive if having the disease)\n",
    "\n",
    "P(B∣¬A)=1−0.95=0.05 (false positive rate)\n",
    "\n",
    "Using Bayes' Theorem:\n",
    "\n",
    "P(A∣B)= P(B∣A)⋅P(A)/P(B)\n",
    "\n",
    "P(B)=P(B∣A)⋅P(A)+P(B∣¬A)⋅P(¬A)\n",
    "\n",
    "P(B)=0.99⋅0.0001+0.05⋅0.9999≈0.050045\n",
    "\n",
    "Therefore, the probability that a person actually has the disease given a positive test result is approximately 0.198% (0.00198).\n",
    "\n",
    "\n",
    "\n",
    "\n",
    "\n",
    "\n",
    "\n",
    "\n"
   ]
  },
  {
   "cell_type": "markdown",
   "id": "0db1a6b0",
   "metadata": {},
   "source": [
    "Q7. Calculate the 95% confidence interval for a sample of data with a mean of 50 and a standard deviation \n",
    "of 5. Interpret the results.\n",
    "\n"
   ]
  },
  {
   "cell_type": "markdown",
   "id": "c9140c95",
   "metadata": {},
   "source": [
    "The 95% confidence interval for a sample with a mean of 50 and a standard deviation of 5 is approximately 50±1.96× 5/ rt n is the sample size. This interval represents the range within which we are 95% confident the true population mean lies, based on the sample data.\n",
    "\n",
    "\n",
    "\n",
    "\n",
    "\n",
    "\n"
   ]
  },
  {
   "cell_type": "markdown",
   "id": "3c19fb31",
   "metadata": {},
   "source": [
    "Q8. What is the margin of error in a confidence interval? How does sample size affect the margin of error? \n",
    "Provide an example of a scenario where a larger sample size would result in a smaller margin of error.\n",
    "\n"
   ]
  },
  {
   "cell_type": "markdown",
   "id": "aae7af5d",
   "metadata": {},
   "source": [
    "The margin of error (MOE) in a confidence interval is the range around a point estimate that likely contains the true population parameter. A larger sample size decreases the margin of error because it reduces variability and increases precision. For example, a survey with 500 participants will have a smaller MOE compared to a survey with only 100 participants.\n",
    "\n",
    "\n",
    "\n",
    "\n",
    "\n",
    "\n"
   ]
  },
  {
   "cell_type": "markdown",
   "id": "aa904695",
   "metadata": {},
   "source": [
    "Q9. Calculate the z-score for a data point with a value of 75, a population mean of 70, and a population \n",
    "standard deviation of 5. Interpret the results.\n",
    "\n"
   ]
  },
  {
   "cell_type": "markdown",
   "id": "6f835395",
   "metadata": {},
   "source": [
    "To calculate the z-score for a data point, we use the formula:\n",
    "\n",
    "z= x−μ/σ\n",
    "\n",
    " \n",
    "\n",
    "where:\n",
    "\n",
    "x is the value of the data point,\n",
    "\n",
    "μ is the population mean,\n",
    "\n",
    "σ is the population standard deviation.\n",
    "\n",
    "\n",
    "Given:\n",
    "\n",
    "Value of the data point (x) = 75\n",
    "Population mean (μ) = 70\n",
    "Population standard deviation (σ) = 5\n",
    "Plugging these values into the formula, we get:\n",
    "\n",
    "\n",
    "z= 75−70/5=1\n",
    "\n",
    "The z-score for the data point with a value of 75, a population mean of 70, and a population standard deviation of 5 is 1.\n",
    "\n",
    "Interpretation:\n",
    "A z-score of 1 means that the data point is one standard deviation above the mean in the population. In other words, the value of 75 is higher than the average (mean) by one standard deviation (where one standard deviation is 5 units in this case). Z-scores are useful for understanding how far a data point is from the mean in terms of standard deviations and are commonly used in statistics to analyze and compare data points across different distributions.\n",
    "\n",
    "\n",
    "\n",
    "\n",
    "\n",
    "\n"
   ]
  },
  {
   "cell_type": "markdown",
   "id": "0e8e738c",
   "metadata": {},
   "source": [
    "Q10. In a study of the effectiveness of a new weight loss drug, a sample of 50 participants lost an average \n",
    "of 6 pounds with a standard deviation of 2.5 pounds. Conduct a hypothesis test to determine if the drug is \n",
    "significantly effective at a 95% confidence level using a t-test.\n",
    "\n"
   ]
  },
  {
   "cell_type": "markdown",
   "id": "b8c1fdbe",
   "metadata": {},
   "source": [
    "\n",
    "Based on a sample of 50 participants with an average weight loss of 6 pounds and a standard deviation of 2.5 pounds, the t-value for a one-tailed t-test is approximately 16.97. Compared to the critical t-value of -1.676 for a 95% confidence level with 49 degrees of freedom, we reject the null hypothesis, indicating that the new weight loss drug is significantly effective at a 95% confidence level.\n",
    "\n",
    "\n",
    "\n",
    "\n",
    "\n"
   ]
  },
  {
   "cell_type": "markdown",
   "id": "ea65b48b",
   "metadata": {},
   "source": [
    "Q11. In a survey of 500 people, 65% reported being satisfied with their current job. Calculate the 95% \n",
    "confidence interval for the true proportion of people who are satisfied with their job.\n",
    "\n"
   ]
  },
  {
   "cell_type": "markdown",
   "id": "6a112653",
   "metadata": {},
   "source": []
  },
  {
   "cell_type": "markdown",
   "id": "120f93de",
   "metadata": {},
   "source": [
    "Q12. A researcher is testing the effectiveness of two different teaching methods on student performance. \n",
    "Sample A has a mean score of 85 with a standard deviation of 6, while sample B has a mean score of 82 \n",
    "with a standard deviation of 5. Conduct a hypothesis test to determine if the two teaching methods have a \n",
    "significant difference in student performance using a t-test with a significance level of 0.01.\n",
    "\n"
   ]
  },
  {
   "cell_type": "code",
   "execution_count": null,
   "id": "38e1745d",
   "metadata": {},
   "outputs": [],
   "source": []
  },
  {
   "cell_type": "markdown",
   "id": "7d7e3547",
   "metadata": {},
   "source": [
    "Q13. A population has a mean of 60 and a standard deviation of 8. A sample of 50 observations has a mean \n",
    "of 65. Calculate the 90% confidence interval for the true population mean.\n",
    "\n"
   ]
  },
  {
   "cell_type": "code",
   "execution_count": null,
   "id": "98217ceb",
   "metadata": {},
   "outputs": [],
   "source": []
  },
  {
   "cell_type": "markdown",
   "id": "7753566b",
   "metadata": {},
   "source": [
    "Q14. In a study of the effects of caffeine on reaction time, a sample of 30 participants had an average \n",
    "reaction time of 0.25 seconds with a standard deviation of 0.05 seconds. Conduct a hypothesis test to \n",
    "determine if the caffeine has a significant effect on reaction time at a 90% confidence level using a t-test"
   ]
  },
  {
   "cell_type": "code",
   "execution_count": null,
   "id": "a9fcc8ee",
   "metadata": {},
   "outputs": [],
   "source": []
  }
 ],
 "metadata": {
  "kernelspec": {
   "display_name": "Python 3 (ipykernel)",
   "language": "python",
   "name": "python3"
  },
  "language_info": {
   "codemirror_mode": {
    "name": "ipython",
    "version": 3
   },
   "file_extension": ".py",
   "mimetype": "text/x-python",
   "name": "python",
   "nbconvert_exporter": "python",
   "pygments_lexer": "ipython3",
   "version": "3.9.13"
  }
 },
 "nbformat": 4,
 "nbformat_minor": 5
}
