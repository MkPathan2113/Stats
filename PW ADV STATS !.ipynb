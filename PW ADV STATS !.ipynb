{
 "cells": [
  {
   "cell_type": "markdown",
   "id": "88fd310c",
   "metadata": {},
   "source": [
    "Q1. What is the Probability density function?\n",
    "\n"
   ]
  },
  {
   "cell_type": "markdown",
   "id": "029e4827",
   "metadata": {},
   "source": [
    "Probability density function is one of the type of probabilty distribution function .\n",
    "\n",
    "When we have continuos random variable then it's distribution specifically denoted by probability density function .\n",
    "\n",
    "In this basically we find the area under the curve \n",
    "\n",
    "The Probability Density Function (PDF) is a function that describes the likelihood of a continuous random variable taking on a particular value within a given range. It provides the probability distribution of the variable's values, with the area under the curve representing the probability. In simpler terms, it tells us how likely different outcomes are in a continuous probability distribution."
   ]
  },
  {
   "cell_type": "markdown",
   "id": "d094210c",
   "metadata": {},
   "source": [
    "Q2. What are the types of Probability distribution?\n",
    "\n"
   ]
  },
  {
   "cell_type": "markdown",
   "id": "0c6c879f",
   "metadata": {},
   "source": [
    "Normal Distribution\n",
    "\n",
    "\n",
    "Uniform Distribution\n",
    "\n",
    "\n",
    "Exponential Distribution\n",
    "\n",
    "\n",
    "Binomial Distribution\n",
    "\n",
    "\n",
    "Poisson Distribution\n",
    "\n",
    "\n",
    "Bernoulli Distribution\n",
    "\n",
    "\n",
    "Geometric Distribution"
   ]
  },
  {
   "cell_type": "markdown",
   "id": "1839c67f",
   "metadata": {},
   "source": [
    "Q3. Write a Python function to calculate the probability density function of a normal distribution with \n",
    "given mean and standard deviation at a given point.\n",
    "\n"
   ]
  },
  {
   "cell_type": "code",
   "execution_count": 2,
   "id": "9d6fbe0b",
   "metadata": {},
   "outputs": [
    {
     "data": {
      "text/plain": [
       "0.24197072451914337"
      ]
     },
     "execution_count": 2,
     "metadata": {},
     "output_type": "execute_result"
    }
   ],
   "source": [
    "import math \n",
    "\n",
    "def pdf(x , mean , std_dev):\n",
    "    coefficient = 1 / (std_dev * math.sqrt(2 * math.pi))\n",
    "    exponent = -((x - mean) ** 2) / (2 * std_dev ** 2)\n",
    "    pdf_value = coefficient * math.exp(exponent)\n",
    "    return pdf_value\n",
    "    \n",
    "pdf(1,0,1)"
   ]
  },
  {
   "cell_type": "markdown",
   "id": "a83dbd8c",
   "metadata": {},
   "source": [
    "Q4. What are the properties of Binomial distribution? Give two examples of events where binomial \n",
    "distribution can be applied.\n",
    "\n"
   ]
  },
  {
   "cell_type": "markdown",
   "id": "d61f512b",
   "metadata": {},
   "source": [
    "The binomial distribution is characterized by the following properties:\n",
    "\n",
    "Discreteness: The binomial distribution describes the number of successes in a fixed number of independent Bernoulli trials, where each trial has two possible outcomes: success or failure.\n",
    "\n",
    "Fixed Number of Trials: The number of trials\n",
    "\n",
    "n, is predetermined and remains constant throughout the experiment.\n",
    "\n",
    "Independent Trials: Each trial is independent of the others, meaning the outcome of one trial does not affect the outcome of another.\n",
    "\n",
    "Constant Probability of Success: The probability of success\n",
    "\n",
    "p, remains constant for each trial.\n",
    "\n",
    "Binary Outcome: Each trial results in one of two possible outcomes, typically labeled as success (usually denoted as 1) or failure (usually denoted as 0).\n",
    "\n",
    "Examples of events where the binomial distribution can be applied include:\n",
    "\n",
    "Coin Flips: Suppose you flip a fair coin 10 times and count the number of heads. Each flip is independent of the others, and there are only two outcomes for each flip: heads or tails. The binomial distribution can be used to model the number of heads obtained in the 10 flips.\n",
    "\n",
    "Medical Trials: In a clinical trial, patients may either respond positively (success) or not (failure) to a new treatment. The binomial distribution can be used to model the number of patients who respond positively out of a fixed number of patients who received the treatment."
   ]
  },
  {
   "cell_type": "markdown",
   "id": "a67a5c85",
   "metadata": {},
   "source": [
    "Q5. Generate a random sample of size 1000 from a binomial distribution with probability of success 0.4 \n",
    "and plot a histogram of the results using matplotlib.\n",
    "\n"
   ]
  },
  {
   "cell_type": "code",
   "execution_count": 18,
   "id": "6bacd442",
   "metadata": {},
   "outputs": [
    {
     "data": {
      "image/png": "[encoded data removed]",
      "text/plain": [
       "<Figure size 640x480 with 1 Axes>"
      ]
     },
     "metadata": {},
     "output_type": "display_data"
    }
   ],
   "source": [
    "import numpy as np\n",
    "import matplotlib.pyplot as plt\n",
    "\n",
    "sample_size = 1000\n",
    "probability_success = 0.4\n",
    "random_sample = np.random.binomial(1, probability_success, size=sample_size)\n",
    "\n",
    "plt.hist(random_sample, bins=[-0.5, 0.5, 1.5], edgecolor='black')\n",
    "plt.title(\"Histogram of Random Sample from Binomial Distribution\")\n",
    "plt.xlabel(\"Outcome (0: Failure, 1: Success)\")\n",
    "plt.ylabel(\"Frequency\")\n",
    "plt.xticks([0, 1])\n",
    "plt.grid(axis='y', linestyle='--', alpha=0.7)\n",
    "plt.show()\n"
   ]
  },
  {
   "cell_type": "markdown",
   "id": "4eef85f8",
   "metadata": {},
   "source": [
    "Q6. Write a Python function to calculate the cumulative distribution function of a Poisson distribution \n",
    "with given mean at a given point.\n",
    "\n"
   ]
  },
  {
   "cell_type": "code",
   "execution_count": 6,
   "id": "3c1cc01c",
   "metadata": {},
   "outputs": [
    {
     "data": {
      "text/plain": [
       "0.42319008112684353"
      ]
     },
     "execution_count": 6,
     "metadata": {},
     "output_type": "execute_result"
    }
   ],
   "source": [
    "import math \n",
    "\n",
    "def poisson_cdf(k, lambd):\n",
    "    \n",
    "    cdf = 0 \n",
    "    \n",
    "    for i in range (k+1):\n",
    "        cdf += math.exp(-lambd)* (lambd ** i) / math.factorial(i)\n",
    "        \n",
    "    return cdf\n",
    "\n",
    "poisson_cdf(2,3)"
   ]
  },
  {
   "cell_type": "markdown",
   "id": "e06be411",
   "metadata": {},
   "source": [
    "Q7. How Binomial distribution different from Poisson distribution?\n",
    "\n"
   ]
  },
  {
   "cell_type": "markdown",
   "id": "336ab7a1",
   "metadata": {},
   "source": [
    "Number of Trials:\n",
    "\n",
    "Binomial Distribution: The binomial distribution is used when there are a fixed number of independent trials, each with two possible outcomes (success or failure).\n",
    "\n",
    "\n",
    "Poisson Distribution: The Poisson distribution is used when the number of trials or opportunities for success is large and the probability of success for each trial is small.\n",
    "\n",
    "\n",
    "Nature of Events:\n",
    "\n",
    "Binomial Distribution: The binomial distribution is used to model the number of successes in a fixed number of independent trials, where each trial has two possible outcomes with a constant probability of success.\n",
    "\n",
    "\n",
    "Poisson Distribution: The Poisson distribution is used to model the number of rare events occurring in a fixed interval of time or space, where the events happen independently of each other and the average rate of occurrence is known.\n",
    "Parameters:\n",
    "\n",
    "Binomial Distribution: The binomial distribution is characterized by two parameters: the number of trials (n) and the probability of success (p).\n",
    "\n",
    "Poisson Distribution: The Poisson distribution is characterized by one parameter: the average rate of occurrence (λ).\n",
    "\n",
    "\n",
    "Assumptions:\n",
    "\n",
    "Binomial Distribution: The binomial distribution assumes a fixed number of trials with two possible outcomes, and the trials are independent of each other.\n",
    "\n",
    "\n",
    "Poisson Distribution: The Poisson distribution assumes that the events occur independently of each other and at a constant average rate throughout the interval."
   ]
  },
  {
   "cell_type": "markdown",
   "id": "5a36a613",
   "metadata": {},
   "source": [
    "Q8. Generate a random sample of size 1000 from a Poisson distribution with mean 5 and calculate the \n",
    "sample mean and variance.\n",
    "\n"
   ]
  },
  {
   "cell_type": "code",
   "execution_count": 12,
   "id": "7ba3fbd6",
   "metadata": {},
   "outputs": [
    {
     "name": "stdout",
     "output_type": "stream",
     "text": [
      "4.938\n",
      "4.970156000000001\n"
     ]
    }
   ],
   "source": [
    "import numpy as np\n",
    "\n",
    "sample_size = 1000\n",
    "mean = 5\n",
    "\n",
    "random_sample = np.random.poisson(mean , sample_size)\n",
    "\n",
    "sample_mean = np.mean(random_sample)\n",
    "print(sample_mean)\n",
    "\n",
    "sample_variance = np.var(random_sample)\n",
    "print(sample_variance)"
   ]
  },
  {
   "cell_type": "markdown",
   "id": "e2d67e4b",
   "metadata": {},
   "source": [
    "Q9. How mean and variance are related in Binomial distribution and Poisson distribution?\n",
    "\n"
   ]
  },
  {
   "cell_type": "markdown",
   "id": "d25bcb2e",
   "metadata": {},
   "source": [
    "Binomial Distribution : \n",
    "\n",
    "Mean : for binomial distribution with parameters n (number of trials ) and probability p the mean is given by mean = np\n",
    "\n",
    "Var : The variance of a binomial distribution is given by  Var=np(1−p).\n",
    "\n",
    "Poisson Distribution:\n",
    "\n",
    "Mean : For a Poisson distribution with parameter λ (average rate of occurrence), the mean is equal to the parameter itself, μ=λ.\n",
    "\n",
    "Var :  The variance of a Poisson distribution is also equal to its parameter, Var=λ."
   ]
  },
  {
   "cell_type": "markdown",
   "id": "7843ccdb",
   "metadata": {},
   "source": [
    "Q10. In normal distribution with respect to mean position, where does the least frequent data appear?"
   ]
  },
  {
   "cell_type": "markdown",
   "id": "21a0ff51",
   "metadata": {},
   "source": [
    "In a normal distribution, the least frequent data appears at the tails, furthest away from the mean. Specifically, it appears at the extreme ends of the distribution, where the probability density is lowest. The normal distribution is symmetric around its mean, so the least frequent data points occur at both ends of the distribution, at the tails.\n",
    "\n",
    "\n",
    "\n",
    "\n",
    "\n",
    "\n"
   ]
  }
 ],
 "metadata": {
  "kernelspec": {
   "display_name": "Python 3 (ipykernel)",
   "language": "python",
   "name": "python3"
  },
  "language_info": {
   "codemirror_mode": {
    "name": "ipython",
    "version": 3
   },
   "file_extension": ".py",
   "mimetype": "text/x-python",
   "name": "python",
   "nbconvert_exporter": "python",
   "pygments_lexer": "ipython3",
   "version": "3.9.13"
  }
 },
 "nbformat": 4,
 "nbformat_minor": 5
}
