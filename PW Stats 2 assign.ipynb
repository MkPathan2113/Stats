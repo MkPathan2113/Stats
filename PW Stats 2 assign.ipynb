{
 "cells": [
  {
   "cell_type": "markdown",
   "id": "36c3cf9d",
   "metadata": {},
   "source": [
    "Q1. What are the three measures of central tendency?\n",
    "\n"
   ]
  },
  {
   "cell_type": "markdown",
   "id": "7d737794",
   "metadata": {},
   "source": [
    "There are three measures of central tendency as follows\n",
    "\n",
    "1. Mean - The average of the all the data points \n",
    "\n",
    "2. Median - The median is the centre value of the dataset when it is arranged in ascending or descending order if the dataset contains even number of data point then it will be the average of the two middle data points\n",
    "\n",
    "3. Mode - Mode is the most occuring element in the dataset\n",
    "\n"
   ]
  },
  {
   "cell_type": "markdown",
   "id": "3622e9de",
   "metadata": {},
   "source": [
    "Q2. What is the difference between the mean, median, and mode? How are they used to measure the \n",
    "central tendency of a dataset?\n",
    "\n"
   ]
  },
  {
   "cell_type": "markdown",
   "id": "003cdd21",
   "metadata": {},
   "source": [
    "\n",
    "The mean is the average value of a dataset, calculated by summing all values and dividing by the number of values. \n",
    "\n",
    "The median is the middle value of a dataset when arranged in ascending or descending order. \n",
    "\n",
    "The mode is the value that appears most frequently in a dataset.\n",
    "\n",
    "These measures are used to gauge the central tendency of a dataset, providing insight into where the data cluster around. The mean is sensitive to extreme values and is influenced by outliers. The median is less affected by outliers and is often used when the data is skewed. The mode indicates the most common value in the dataset and is useful for categorical or discrete data. Depending on the distribution and characteristics of the dataset, one or a combination of these measures may be used to describe its central tendency accurately."
   ]
  },
  {
   "cell_type": "markdown",
   "id": "d355d3bd",
   "metadata": {},
   "source": [
    "Q3. Measure the three measures of central tendency for the given height data:\n",
    "\n",
    " [178,177,176,177,178.2,178,175,179,180,175,178.9,176.2,177,172.5,178,176.5]\n",
    "\n"
   ]
  },
  {
   "cell_type": "code",
   "execution_count": 7,
   "id": "8bb06a33",
   "metadata": {},
   "outputs": [
    {
     "name": "stdout",
     "output_type": "stream",
     "text": [
      "Mean =  177.01875\n",
      "Median =  177.0\n",
      "Mode =  177.0\n"
     ]
    },
    {
     "name": "stderr",
     "output_type": "stream",
     "text": [
      "C:\\Users\\Khan Mokhit\\AppData\\Local\\Temp\\ipykernel_23080\\949814612.py:10: FutureWarning: Unlike other reduction functions (e.g. `skew`, `kurtosis`), the default behavior of `mode` typically preserves the axis it acts along. In SciPy 1.11.0, this behavior will change: the default value of `keepdims` will become False, the `axis` over which the statistic is taken will be eliminated, and the value None will no longer be accepted. Set `keepdims` to True or False to avoid this warning.\n",
      "  print(\"Mode = \" ,  mode(var)[0][0])\n"
     ]
    }
   ],
   "source": [
    "import numpy as np\n",
    "from scipy.stats import mode\n",
    "\n",
    "var = [178,177,176,177,178.2,178,175,179,180,175,178.9,176.2,177,172.5,178,176.5]\n",
    "\n",
    "print(\"Mean = \" , np.mean(var))\n",
    "\n",
    "print(\"Median = \" , np.median(var))\n",
    "\n",
    "print(\"Mode = \" ,  mode(var)[0][0])"
   ]
  },
  {
   "cell_type": "markdown",
   "id": "8108c06d",
   "metadata": {},
   "source": [
    "Q4. Find the standard deviation for the given data:\n",
    "\n",
    "[178,177,176,177,178.2,178,175,179,180,175,178.9,176.2,177,172.5,178,176.5]\n",
    "\n"
   ]
  },
  {
   "cell_type": "code",
   "execution_count": 8,
   "id": "6a17073b",
   "metadata": {},
   "outputs": [
    {
     "name": "stdout",
     "output_type": "stream",
     "text": [
      "Standard deviation =  1.7885814036548633\n"
     ]
    }
   ],
   "source": [
    "x = [178,177,176,177,178.2,178,175,179,180,175,178.9,176.2,177,172.5,178,176.5]\n",
    "\n",
    "print(\"Standard deviation = \" , np.std(x))"
   ]
  },
  {
   "cell_type": "markdown",
   "id": "ff2a9c2a",
   "metadata": {},
   "source": [
    "Q5. How are measures of dispersion such as range, variance, and standard deviation used to describe \n",
    "the spread of a dataset? Provide an example.\n",
    "\n"
   ]
  },
  {
   "cell_type": "markdown",
   "id": "da68671b",
   "metadata": {},
   "source": [
    "Measures of dispersion, such as range, variance, and standard deviation, are used to quantify the spread or variability of a dataset. Here's how each measure is used:\n",
    "\n",
    "Range: The range is the difference between the maximum and minimum values in the dataset. It provides a simple measure of how spread out the data points are.\n",
    "\n",
    "Variance: The variance measures the average squared deviation of each data point from the mean of the dataset. It provides a measure of the spread of the data points around the mean. A larger variance indicates greater variability in the dataset.\n",
    "\n",
    "Standard Deviation: The standard deviation is the square root of the variance. It provides a measure of the average distance of data points from the mean. Like variance, a larger standard deviation indicates greater variability in the dataset.\n",
    "\n",
    "Example:\n",
    "Suppose you have two datasets representing the heights (in inches) of students in two different classes:\n",
    "\n",
    "Class A: [60, 62, 64, 65, 68]\n",
    "Class B: [55, 58, 63, 67, 70]\n",
    "\n",
    "By calculating the range, variance, and standard deviation for each dataset, you can compare their spreads:\n",
    "\n",
    "For Class A:\n",
    "\n",
    "Range: \n",
    "68\n",
    "−\n",
    "60\n",
    "=\n",
    "8\n",
    "68−60=8\n",
    "Variance: Calculated using the formula for variance.\n",
    "\n",
    "\n",
    "Standard Deviation: Calculated as the square root of the variance.\n",
    "\n",
    "\n",
    "For Class B:\n",
    "\n",
    "Range: \n",
    "70\n",
    "−\n",
    "55\n",
    "=\n",
    "15\n",
    "70−55=15\n",
    "Variance: Calculated using the formula for variance.\n",
    "\n",
    "\n",
    "Standard Deviation: Calculated as the square root of the variance.\n",
    "\n",
    "\n",
    "By comparing these measures between the two classes, you can determine which class has more variability in student heights."
   ]
  },
  {
   "cell_type": "markdown",
   "id": "3e612d7a",
   "metadata": {},
   "source": [
    "Q6. What is a Venn diagram?\n",
    "\n"
   ]
  },
  {
   "cell_type": "markdown",
   "id": "c653a369",
   "metadata": {},
   "source": [
    "A Venn diagram is a visual representation of the relationships between different sets of data. It consists of overlapping circles (or other shapes) where each circle represents a set, and the overlapping areas represent the elements that are common to those sets. Venn diagrams are commonly used to illustrate logical relationships and set theory concepts, such as intersections, unions, and complements, in a clear and intuitive manner. They are useful for organizing and understanding complex relationships between different categories or groups of data."
   ]
  },
  {
   "cell_type": "markdown",
   "id": "b9bb25d5",
   "metadata": {},
   "source": [
    "Q7. For the two given sets A = (2,3,4,5,6,7) & B = (0,2,6,8,10). Find:\n",
    "\n",
    "(i) \tA  B\n",
    "\n",
    "(ii)\tA ⋃ B\n",
    "\n"
   ]
  },
  {
   "cell_type": "code",
   "execution_count": 10,
   "id": "320c753d",
   "metadata": {},
   "outputs": [
    {
     "name": "stdout",
     "output_type": "stream",
     "text": [
      "A intersection B =  {2, 6}\n",
      "A union B =  {0, 2, 3, 4, 5, 6, 7, 8, 10}\n"
     ]
    }
   ],
   "source": [
    "A = {2,3,4,5,6,7}\n",
    "B = {0,2,6,8,10}\n",
    "\n",
    "print(\"A intersection B = \" ,A.intersection(B))\n",
    "\n",
    "print(\"A union B = \" ,A.union(B))"
   ]
  },
  {
   "cell_type": "markdown",
   "id": "e5ad157d",
   "metadata": {},
   "source": [
    "Q8. What do you understand about skewness in data?\n",
    "\n"
   ]
  },
  {
   "cell_type": "markdown",
   "id": "48739ca0",
   "metadata": {},
   "source": [
    "Skewness in data refers to the asymmetry in the distribution of values. It measures the lack of symmetry in a dataset's distribution. A dataset can be positively skewed (tail to the right), negatively skewed (tail to the left), or symmetrically distributed.\n",
    "\n",
    "If a data is symmetrically distributed then : Mean = Median = Mode\n",
    "\n",
    "If a data is positively skewed then : Mean > Median > Mode \n",
    "\n",
    "If a data is negatively skewed then : Mean < Median < Mode "
   ]
  },
  {
   "cell_type": "markdown",
   "id": "46008d07",
   "metadata": {},
   "source": [
    "Q9. If a data is right skewed then what will be the position of median with respect to mean?\n",
    "\n"
   ]
  },
  {
   "cell_type": "markdown",
   "id": "a31d94ed",
   "metadata": {},
   "source": [
    "In a right-skewed distribution, the tail of the distribution extends towards higher values, pulling the mean towards it and causing it to be greater than the median. Therefore, in a right-skewed distribution, the median will be positioned to the left of the mean.\n",
    "\n",
    "\n",
    "\n",
    "\n",
    "\n",
    "\n"
   ]
  },
  {
   "cell_type": "markdown",
   "id": "c695d2f0",
   "metadata": {},
   "source": [
    "Q10. Explain the difference between covariance and correlation. How are these measures used in \n",
    "statistical analysis?\n",
    "\n"
   ]
  },
  {
   "cell_type": "markdown",
   "id": "e6d1719d",
   "metadata": {},
   "source": [
    "Covariance measures the degree to which two variables change together, indicating the direction of the linear relationship but not its strength.\n",
    "\n",
    "Correlation measures the strength and direction of the linear relationship between two variables, providing a standardized measure of association that is unitless and invariant to changes in scale."
   ]
  },
  {
   "cell_type": "markdown",
   "id": "74deeab5",
   "metadata": {},
   "source": [
    "Q11. What is the formula for calculating the sample mean? Provide an example calculation for a \n",
    "dataset.\n",
    "\n"
   ]
  },
  {
   "cell_type": "code",
   "execution_count": 12,
   "id": "5af8c627",
   "metadata": {},
   "outputs": [
    {
     "data": {
      "text/plain": [
       "20.0"
      ]
     },
     "execution_count": 12,
     "metadata": {},
     "output_type": "execute_result"
    }
   ],
   "source": [
    "data = [10, 15, 20, 25, 30]\n",
    "\n",
    "sample_mean = sum(data) / len(data)\n",
    "\n",
    "sample_mean\n"
   ]
  },
  {
   "cell_type": "markdown",
   "id": "658c931a",
   "metadata": {},
   "source": [
    "Q12. For a normal distribution data what is the relationship between its measure of central tendency?\n",
    "\n"
   ]
  },
  {
   "cell_type": "markdown",
   "id": "a2388db7",
   "metadata": {},
   "source": [
    "If a data is normally distributed then the relationship between its central tendency will be :\n",
    "    \n",
    "Mean = Median = Mode"
   ]
  },
  {
   "cell_type": "markdown",
   "id": "0cb3347f",
   "metadata": {},
   "source": [
    "Q13. How is covariance different from correlation?\n",
    "\n"
   ]
  },
  {
   "cell_type": "markdown",
   "id": "89f1bf10",
   "metadata": {},
   "source": [
    "Definition:\n",
    "\n",
    "Covariance measures the degree to which two variables change together. It indicates the direction of the linear relationship between variables but does not provide information about the strength of the relationship.\n",
    "\n",
    "\n",
    "Correlation measures the strength and direction of the linear relationship between two variables. It provides a standardized measure of association, making it easier to interpret and compare relationships across different datasets.\n",
    "\n",
    "\n",
    "Range of Values:\n",
    "\n",
    "Covariance can take on any value, with positive values indicating a positive relationship, negative values indicating a negative relationship, and zero indicating no relationship.\n",
    "\n",
    "\n",
    "Correlation coefficients range from -1 to 1, where -1 indicates a perfect negative linear relationship, 0 indicates no linear relationship, and 1 indicates a perfect positive linear relationship.\n",
    "\n",
    "\n",
    "Scale Dependency:\n",
    "\n",
    "Covariance is influenced by the scale of the variables, making it difficult to compare covariances across different datasets.\n",
    "\n",
    "\n",
    "Correlation is unitless and invariant to changes in scale, making it more suitable for comparing relationships between variables."
   ]
  },
  {
   "cell_type": "markdown",
   "id": "c8d8a365",
   "metadata": {},
   "source": [
    "Q14. How do outliers affect measures of central tendency and dispersion? Provide an example"
   ]
  },
  {
   "cell_type": "markdown",
   "id": "d8bd4cc1",
   "metadata": {},
   "source": [
    "Measures of Central Tendency:\n",
    "\n",
    "Outliers can skew the mean, pulling it towards their extreme values. This can make the mean less representative of the typical value in the dataset.\n",
    "The median is less affected by outliers since it is resistant to extreme values. Therefore, the median may provide a more accurate representation of central tendency in the presence of outliers.\n",
    "The mode may remain unchanged by outliers, as it represents the most frequently occurring value in the dataset.\n",
    "\n",
    "\n",
    "Measures of Dispersion:\n",
    "\n",
    "Outliers can inflate measures of dispersion such as variance and standard deviation. Since these measures quantify the spread of data points around the mean, extreme values can increase the average distance of data points from the mean, resulting in larger variance and standard deviation.\n",
    "The range can be greatly influenced by outliers, as it is the difference between the maximum and minimum values in the dataset."
   ]
  },
  {
   "cell_type": "code",
   "execution_count": null,
   "id": "00064e8c",
   "metadata": {},
   "outputs": [],
   "source": []
  }
 ],
 "metadata": {
  "kernelspec": {
   "display_name": "Python 3 (ipykernel)",
   "language": "python",
   "name": "python3"
  },
  "language_info": {
   "codemirror_mode": {
    "name": "ipython",
    "version": 3
   },
   "file_extension": ".py",
   "mimetype": "text/x-python",
   "name": "python",
   "nbconvert_exporter": "python",
   "pygments_lexer": "ipython3",
   "version": "3.9.13"
  }
 },
 "nbformat": 4,
 "nbformat_minor": 5
}
